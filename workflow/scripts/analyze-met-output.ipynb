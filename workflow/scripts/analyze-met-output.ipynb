{
 "cells": [
  {
   "cell_type": "code",
   "execution_count": 1,
   "metadata": {},
   "outputs": [],
   "source": [
    "import pandas as pd\n",
    "import os\n",
    "import numpy as np\n",
    "import matplotlib.pyplot as plt\n",
    "import seaborn as sns\n",
    "import math\n",
    "import sys"
   ]
  },
  {
   "cell_type": "code",
   "execution_count": 2,
   "metadata": {},
   "outputs": [
    {
     "name": "stderr",
     "output_type": "stream",
     "text": [
      "/vortexfs1/home/akrinos/.local/lib/python3.8/site-packages/numpy/lib/arraysetops.py:569: FutureWarning: elementwise comparison failed; returning scalar instead, but in the future will perform elementwise comparison\n",
      "  mask |= (ar1 == a)\n"
     ]
    }
   ],
   "source": [
    "results_frame = dict()\n",
    "samples = os.listdir(\"METs\")\n",
    "for s in samples:\n",
    "    if (\"SH\" in s) | (\"merged\" in s) & (\"failed\" not in s) & (\"2\" not in s):\n",
    "        results_frame[s] = pd.read_csv(os.path.join(\"METs\",s), sep = \"\\t\", index_col=0)"
   ]
  },
  {
   "cell_type": "code",
   "execution_count": 4,
   "metadata": {},
   "outputs": [
    {
     "data": {
      "text/html": [
       "<div>\n",
       "<style scoped>\n",
       "    .dataframe tbody tr th:only-of-type {\n",
       "        vertical-align: middle;\n",
       "    }\n",
       "\n",
       "    .dataframe tbody tr th {\n",
       "        vertical-align: top;\n",
       "    }\n",
       "\n",
       "    .dataframe thead th {\n",
       "        text-align: right;\n",
       "    }\n",
       "</style>\n",
       "<table border=\"1\" class=\"dataframe\">\n",
       "  <thead>\n",
       "    <tr style=\"text-align: right;\">\n",
       "      <th></th>\n",
       "      <th>classification_level</th>\n",
       "      <th>max_pid</th>\n",
       "      <th>ambiguous</th>\n",
       "      <th>count_by</th>\n",
       "    </tr>\n",
       "  </thead>\n",
       "  <tbody>\n",
       "    <tr>\n",
       "      <th>0</th>\n",
       "      <td>class</td>\n",
       "      <td>42.397711</td>\n",
       "      <td>908</td>\n",
       "      <td>97958</td>\n",
       "    </tr>\n",
       "    <tr>\n",
       "      <th>1</th>\n",
       "      <td>family</td>\n",
       "      <td>72.201150</td>\n",
       "      <td>5120</td>\n",
       "      <td>187231</td>\n",
       "    </tr>\n",
       "    <tr>\n",
       "      <th>2</th>\n",
       "      <td>genus</td>\n",
       "      <td>87.025014</td>\n",
       "      <td>6671</td>\n",
       "      <td>144140</td>\n",
       "    </tr>\n",
       "    <tr>\n",
       "      <th>3</th>\n",
       "      <td>order</td>\n",
       "      <td>57.743812</td>\n",
       "      <td>2442</td>\n",
       "      <td>178373</td>\n",
       "    </tr>\n",
       "    <tr>\n",
       "      <th>4</th>\n",
       "      <td>species</td>\n",
       "      <td>97.882516</td>\n",
       "      <td>6722</td>\n",
       "      <td>51888</td>\n",
       "    </tr>\n",
       "  </tbody>\n",
       "</table>\n",
       "</div>"
      ],
      "text/plain": [
       "  classification_level    max_pid  ambiguous  count_by\n",
       "0                class  42.397711        908     97958\n",
       "1               family  72.201150       5120    187231\n",
       "2                genus  87.025014       6671    144140\n",
       "3                order  57.743812       2442    178373\n",
       "4              species  97.882516       6722     51888"
      ]
     },
     "execution_count": 4,
     "metadata": {},
     "output_type": "execute_result"
    }
   ],
   "source": [
    "summarized_frame = dict()\n",
    "for curr in results_frame.keys():\n",
    "    results_frame[curr][\"count_by\"] = 1\n",
    "    mean_results = results_frame[curr].groupby(\"classification_level\").max_pid.mean().reset_index()\n",
    "    sum_results = results_frame[curr].groupby(\"classification_level\").sum().reset_index()\n",
    "    sum_results[\"max_pid\"] = mean_results[\"max_pid\"]\n",
    "    summarized_frame[curr] = sum_results\n",
    "    \n",
    "summarized_frame[curr]"
   ]
  },
  {
   "cell_type": "code",
   "execution_count": 6,
   "metadata": {},
   "outputs": [
    {
     "name": "stdout",
     "output_type": "stream",
     "text": [
      "SH490_megahit\n",
      "SH402_merged\n",
      "merged\n",
      "SH402_trinity\n",
      "SH488_trinity\n",
      "SH493_merged\n",
      "SH402_megahit\n",
      "SH493_megahit\n",
      "SH491_trinity\n",
      "SH493_trinity\n",
      "SH489_merged\n",
      "SH488_merged\n",
      "SH489_trinity\n",
      "SH490_merged\n",
      "SH489_megahit\n",
      "SH491_megahit\n",
      "SH491_merged\n",
      "SH488_megahit\n",
      "SH492_megahit\n",
      "SH492_trinity\n",
      "SH487_megahit\n",
      "SH487_merged\n",
      "SH492_merged\n",
      "SH487_trinity\n",
      "SH490_trinity\n"
     ]
    }
   ],
   "source": [
    "diel_dict = {\"SH402\":0,\"SH487\":4,\"SH488\":8,\"SH489\":12,\"SH490\":16,\"SH491\":20,\"SH492\":24,\"SH493\":28,\"merged\":-1}\n",
    "counter = 0\n",
    "for curr in summarized_frame.keys():\n",
    "    curr_frame = summarized_frame[curr]\n",
    "    curr_frame[\"Sample\"] = curr.split(\".\")[len(curr.split(\".\")) - 2].split(\"-\")[0]                              \n",
    "    print(curr.split(\".\")[len(curr.split(\".\")) - 2].split(\"-\")[0])\n",
    "    #curr.split(\"_\")[0].split(\"-\")[0]\n",
    "    curr_frame[\"Diel\"] = diel_dict[curr.split(\"_\")[0].split(\"-\")[0]]\n",
    "    if counter == 0:\n",
    "        total_frame = curr_frame\n",
    "    else:\n",
    "        total_frame = pd.concat([total_frame,curr_frame],axis=0)\n",
    "    counter = counter + 1"
   ]
  },
  {
   "cell_type": "code",
   "execution_count": 7,
   "metadata": {},
   "outputs": [
    {
     "data": {
      "text/plain": [
       "<matplotlib.axes._subplots.AxesSubplot at 0x2aab3381b730>"
      ]
     },
     "execution_count": 7,
     "metadata": {},
     "output_type": "execute_result"
    }
   ],
   "source": [
    "#sns.barplot(x = \"classification_level\", y = \"count_by\", hue = \"Diel\", \\\n",
    "#            data=total_frame.loc[total_frame.Diel != -1])\n",
    "currsample = [True if \"SH490\" in curr else False for curr in total_frame.Sample]\n",
    "sns.barplot(x = \"classification_level\", y = \"count_by\", hue = \"Diel\", \\\n",
    "            data=total_frame.loc[(total_frame.Diel != -1) & currsample])"
   ]
  },
  {
   "cell_type": "code",
   "execution_count": 9,
   "metadata": {},
   "outputs": [
    {
     "data": {
      "text/plain": [
       "<matplotlib.axes._subplots.AxesSubplot at 0x2aab3381b760>"
      ]
     },
     "execution_count": 9,
     "metadata": {},
     "output_type": "execute_result"
    },
    {
     "data": {
      "image/png": "[encoded data removed]",
      "text/plain": [
       "<Figure size 432x288 with 1 Axes>"
      ]
     },
     "metadata": {
      "needs_background": "light"
     },
     "output_type": "display_data"
    }
   ],
   "source": [
    "sns.barplot(x = \"classification_level\", y = \"count_by\", hue = \"Sample\", \\\n",
    "            data=total_frame.loc[(total_frame.Diel != -1) & currsample])"
   ]
  },
  {
   "cell_type": "code",
   "execution_count": 10,
   "metadata": {},
   "outputs": [
    {
     "data": {
      "text/plain": [
       "<matplotlib.axes._subplots.AxesSubplot at 0x2aab39eedbe0>"
      ]
     },
     "execution_count": 10,
     "metadata": {},
     "output_type": "execute_result"
    },
    {
     "data": {
      "image/png": "[encoded data removed]",
      "text/plain": [
       "<Figure size 432x288 with 1 Axes>"
      ]
     },
     "metadata": {
      "needs_background": "light"
     },
     "output_type": "display_data"
    }
   ],
   "source": [
    "sns.barplot(x = \"classification_level\", y = \"count_by\", hue = \"Diel\", \\\n",
    "            data=total_frame)"
   ]
  },
  {
   "cell_type": "code",
   "execution_count": 11,
   "metadata": {},
   "outputs": [],
   "source": [
    "class_frame = dict()\n",
    "unique_species = dict()\n",
    "unique_genus = dict()\n",
    "unique_order = dict()\n",
    "\n",
    "def stripGenus(df):\n",
    "    genuses = set()\n",
    "    full_class_spec = list(df.loc[list(df[\"classification\"]) == \"species\"][\"full_classification\"])\n",
    "    full_class_genus = list(df.loc[list(df[\"classification\"]) == \"genus\"][\"full_classification\"])\n",
    "    genuses.update([cr.split(\";\")[len(cr.split(\";\"))-1].strip() for cr in full_class_spec])\n",
    "    genuses.update([cr.split(\";\")[len(cr.split(\";\"))-2].strip() for cr in full_class_genus])\n",
    "    return genuses\n",
    "\n",
    "def stripGenusAndOrder(df):\n",
    "    orders = set()\n",
    "    genuses = set()\n",
    "    full_class_spec = list(df.loc[list(df[\"classification\"]) == \"species\"][\"full_classification\"])\n",
    "    full_class_genus = list(df.loc[list(df[\"classification\"]) == \"genus\"][\"full_classification\"])\n",
    "    full_class_order = list(df.loc[list(df[\"classification\"]) == \"order\"][\"full_classification\"])\n",
    "    species = [cr.split(\";\")[len(cr.split(\";\"))-1].strip() for cr in full_class_spec]\n",
    "    genus = [cr.split(\";\")[len(cr.split(\";\"))-2].strip() for cr in full_class_genus]\n",
    "    order = [cr.split(\";\")[len(cr.split(\";\"))-3].strip() for cr in full_class_order]\n",
    "    \n",
    "    # Add to orders set\n",
    "    orders.update(genus)\n",
    "    orders.update(species)\n",
    "    orders.update(order)\n",
    "    \n",
    "    # Add to genus sets\n",
    "    genusus.update(genus)\n",
    "    genusus.update(species)\n",
    "    return genuses, orders\n",
    "    \n",
    "# characterizing by major classes \n",
    "for curr in results_frame.keys():\n",
    "    results_frame[curr][\"Haptophytes\"] = [1 if \"Haptophyta\" in curr else 0 \\\n",
    "                                          for curr in results_frame[curr][\"full_classification\"]]\n",
    "    results_frame[curr][\"Dinoflagellates\"] = [1 if \"Dinoflagellata\" in curr else 0 \\\n",
    "                                          for curr in results_frame[curr][\"full_classification\"]]\n",
    "    results_frame[curr][\"Ochrophytes\"] = [1 if \"Ochrophyta\" in curr else 0 \\\n",
    "                                          for curr in results_frame[curr][\"full_classification\"]]\n",
    "    results_frame[curr][\"Cryptophytes\"] = [1 if \"Cryptophyta\" in curr else 0 \\\n",
    "                                          for curr in results_frame[curr][\"full_classification\"]]\n",
    "    results_frame[curr][\"Choanoflagellides\"] = [1 if \"Choanoflagellida\" in curr else 0 \\\n",
    "                                          for curr in results_frame[curr][\"full_classification\"]]\n",
    "    unique_species[curr] = set()\n",
    "    full_class = list(results_frame[curr].loc[list(results_frame[curr][\"classification\"]) == \"species\"][\"full_classification\"])\n",
    "    unique_species[curr].update([cr.split(\";\")[len(cr.split(\";\"))-1].strip() for cr in full_class])\n",
    "    \n",
    "    #unique_genus[curr] = stripGenus(results_frame[curr])\n",
    "    unique_genus[curr], unique_order[curr] = stripGenusAndOrder(results_frame[curr])\n",
    "    \n",
    "    sum_results = pd.DataFrame({ \"Class\": [\"Haptophytes\",\"Dinoflagellates\",\"Ochrophytes\",\\\n",
    "                                           \"Cryptophytes\",\"Choanoflagellides\"],\n",
    "                            \"count\": [sum(results_frame[curr][\"Haptophytes\"]),\\\n",
    "                                  sum(results_frame[curr][\"Dinoflagellates\"]),\\\n",
    "                                  sum(results_frame[curr][\"Ochrophytes\"]),\\\n",
    "                                  sum(results_frame[curr][\"Cryptophytes\"]),\\\n",
    "                                  sum(results_frame[curr][\"Choanoflagellides\"])]})\n",
    "    class_frame[curr] = sum_results"
   ]
  },
  {
   "cell_type": "code",
   "execution_count": 12,
   "metadata": {},
   "outputs": [
    {
     "data": {
      "text/html": [
       "<div>\n",
       "<style scoped>\n",
       "    .dataframe tbody tr th:only-of-type {\n",
       "        vertical-align: middle;\n",
       "    }\n",
       "\n",
       "    .dataframe tbody tr th {\n",
       "        vertical-align: top;\n",
       "    }\n",
       "\n",
       "    .dataframe thead th {\n",
       "        text-align: right;\n",
       "    }\n",
       "</style>\n",
       "<table border=\"1\" class=\"dataframe\">\n",
       "  <thead>\n",
       "    <tr style=\"text-align: right;\">\n",
       "      <th></th>\n",
       "      <th>Class</th>\n",
       "      <th>count</th>\n",
       "    </tr>\n",
       "  </thead>\n",
       "  <tbody>\n",
       "    <tr>\n",
       "      <th>0</th>\n",
       "      <td>Haptophytes</td>\n",
       "      <td>100373</td>\n",
       "    </tr>\n",
       "    <tr>\n",
       "      <th>1</th>\n",
       "      <td>Dinoflagellates</td>\n",
       "      <td>267261</td>\n",
       "    </tr>\n",
       "    <tr>\n",
       "      <th>2</th>\n",
       "      <td>Ochrophytes</td>\n",
       "      <td>128925</td>\n",
       "    </tr>\n",
       "    <tr>\n",
       "      <th>3</th>\n",
       "      <td>Cryptophytes</td>\n",
       "      <td>86586</td>\n",
       "    </tr>\n",
       "    <tr>\n",
       "      <th>4</th>\n",
       "      <td>Choanoflagellides</td>\n",
       "      <td>13107</td>\n",
       "    </tr>\n",
       "  </tbody>\n",
       "</table>\n",
       "</div>"
      ],
      "text/plain": [
       "               Class   count\n",
       "0        Haptophytes  100373\n",
       "1    Dinoflagellates  267261\n",
       "2        Ochrophytes  128925\n",
       "3       Cryptophytes   86586\n",
       "4  Choanoflagellides   13107"
      ]
     },
     "execution_count": 12,
     "metadata": {},
     "output_type": "execute_result"
    }
   ],
   "source": [
    "class_frame[curr]"
   ]
  },
  {
   "cell_type": "code",
   "execution_count": 13,
   "metadata": {},
   "outputs": [
    {
     "data": {
      "text/html": [
       "<div>\n",
       "<style scoped>\n",
       "    .dataframe tbody tr th:only-of-type {\n",
       "        vertical-align: middle;\n",
       "    }\n",
       "\n",
       "    .dataframe tbody tr th {\n",
       "        vertical-align: top;\n",
       "    }\n",
       "\n",
       "    .dataframe thead th {\n",
       "        text-align: right;\n",
       "    }\n",
       "</style>\n",
       "<table border=\"1\" class=\"dataframe\">\n",
       "  <thead>\n",
       "    <tr style=\"text-align: right;\">\n",
       "      <th></th>\n",
       "      <th>Sample</th>\n",
       "      <th>Unique Species</th>\n",
       "    </tr>\n",
       "  </thead>\n",
       "  <tbody>\n",
       "    <tr>\n",
       "      <th>0</th>\n",
       "      <td>SH402_megahit-estimated-taxonomy-parallel.out</td>\n",
       "      <td>423</td>\n",
       "    </tr>\n",
       "    <tr>\n",
       "      <th>0</th>\n",
       "      <td>SH402_merged-estimated-taxonomy-parallel.out</td>\n",
       "      <td>492</td>\n",
       "    </tr>\n",
       "    <tr>\n",
       "      <th>0</th>\n",
       "      <td>SH402_trinity-estimated-taxonomy-parallel.out</td>\n",
       "      <td>492</td>\n",
       "    </tr>\n",
       "    <tr>\n",
       "      <th>0</th>\n",
       "      <td>SH487_megahit-estimated-taxonomy-parallel.out</td>\n",
       "      <td>419</td>\n",
       "    </tr>\n",
       "    <tr>\n",
       "      <th>0</th>\n",
       "      <td>SH487_merged-estimated-taxonomy-parallel.out</td>\n",
       "      <td>495</td>\n",
       "    </tr>\n",
       "    <tr>\n",
       "      <th>0</th>\n",
       "      <td>SH487_trinity-estimated-taxonomy-parallel.out</td>\n",
       "      <td>493</td>\n",
       "    </tr>\n",
       "    <tr>\n",
       "      <th>0</th>\n",
       "      <td>SH488_megahit-estimated-taxonomy-parallel.out</td>\n",
       "      <td>417</td>\n",
       "    </tr>\n",
       "    <tr>\n",
       "      <th>0</th>\n",
       "      <td>SH488_merged-estimated-taxonomy-parallel.out</td>\n",
       "      <td>491</td>\n",
       "    </tr>\n",
       "    <tr>\n",
       "      <th>0</th>\n",
       "      <td>SH488_trinity-estimated-taxonomy-parallel.out</td>\n",
       "      <td>488</td>\n",
       "    </tr>\n",
       "    <tr>\n",
       "      <th>0</th>\n",
       "      <td>SH489_megahit-estimated-taxonomy-parallel.out</td>\n",
       "      <td>422</td>\n",
       "    </tr>\n",
       "    <tr>\n",
       "      <th>0</th>\n",
       "      <td>SH489_merged-estimated-taxonomy-parallel.out</td>\n",
       "      <td>492</td>\n",
       "    </tr>\n",
       "    <tr>\n",
       "      <th>0</th>\n",
       "      <td>SH489_trinity-estimated-taxonomy-parallel.out</td>\n",
       "      <td>494</td>\n",
       "    </tr>\n",
       "    <tr>\n",
       "      <th>0</th>\n",
       "      <td>SH490_megahit-estimated-taxonomy-parallel.out</td>\n",
       "      <td>413</td>\n",
       "    </tr>\n",
       "    <tr>\n",
       "      <th>0</th>\n",
       "      <td>SH490_merged-estimated-taxonomy-parallel.out</td>\n",
       "      <td>490</td>\n",
       "    </tr>\n",
       "    <tr>\n",
       "      <th>0</th>\n",
       "      <td>SH490_trinity-estimated-taxonomy-parallel.out</td>\n",
       "      <td>485</td>\n",
       "    </tr>\n",
       "    <tr>\n",
       "      <th>0</th>\n",
       "      <td>SH491_megahit-estimated-taxonomy-parallel.out</td>\n",
       "      <td>419</td>\n",
       "    </tr>\n",
       "    <tr>\n",
       "      <th>0</th>\n",
       "      <td>SH491_merged-estimated-taxonomy-parallel.out</td>\n",
       "      <td>493</td>\n",
       "    </tr>\n",
       "    <tr>\n",
       "      <th>0</th>\n",
       "      <td>SH491_trinity-estimated-taxonomy-parallel.out</td>\n",
       "      <td>495</td>\n",
       "    </tr>\n",
       "    <tr>\n",
       "      <th>0</th>\n",
       "      <td>SH492_megahit-estimated-taxonomy-parallel.out</td>\n",
       "      <td>424</td>\n",
       "    </tr>\n",
       "    <tr>\n",
       "      <th>0</th>\n",
       "      <td>SH492_merged-estimated-taxonomy-parallel.out</td>\n",
       "      <td>496</td>\n",
       "    </tr>\n",
       "    <tr>\n",
       "      <th>0</th>\n",
       "      <td>SH492_trinity-estimated-taxonomy-parallel.out</td>\n",
       "      <td>499</td>\n",
       "    </tr>\n",
       "    <tr>\n",
       "      <th>0</th>\n",
       "      <td>SH493_megahit-estimated-taxonomy-parallel.out</td>\n",
       "      <td>424</td>\n",
       "    </tr>\n",
       "    <tr>\n",
       "      <th>0</th>\n",
       "      <td>SH493_merged-estimated-taxonomy-parallel.out</td>\n",
       "      <td>500</td>\n",
       "    </tr>\n",
       "    <tr>\n",
       "      <th>0</th>\n",
       "      <td>SH493_trinity-estimated-taxonomy-parallel.out</td>\n",
       "      <td>499</td>\n",
       "    </tr>\n",
       "    <tr>\n",
       "      <th>0</th>\n",
       "      <td>merged-estimated-taxonomy-parallel.out</td>\n",
       "      <td>507</td>\n",
       "    </tr>\n",
       "  </tbody>\n",
       "</table>\n",
       "</div>"
      ],
      "text/plain": [
       "                                          Sample Unique Species\n",
       "0  SH402_megahit-estimated-taxonomy-parallel.out            423\n",
       "0   SH402_merged-estimated-taxonomy-parallel.out            492\n",
       "0  SH402_trinity-estimated-taxonomy-parallel.out            492\n",
       "0  SH487_megahit-estimated-taxonomy-parallel.out            419\n",
       "0   SH487_merged-estimated-taxonomy-parallel.out            495\n",
       "0  SH487_trinity-estimated-taxonomy-parallel.out            493\n",
       "0  SH488_megahit-estimated-taxonomy-parallel.out            417\n",
       "0   SH488_merged-estimated-taxonomy-parallel.out            491\n",
       "0  SH488_trinity-estimated-taxonomy-parallel.out            488\n",
       "0  SH489_megahit-estimated-taxonomy-parallel.out            422\n",
       "0   SH489_merged-estimated-taxonomy-parallel.out            492\n",
       "0  SH489_trinity-estimated-taxonomy-parallel.out            494\n",
       "0  SH490_megahit-estimated-taxonomy-parallel.out            413\n",
       "0   SH490_merged-estimated-taxonomy-parallel.out            490\n",
       "0  SH490_trinity-estimated-taxonomy-parallel.out            485\n",
       "0  SH491_megahit-estimated-taxonomy-parallel.out            419\n",
       "0   SH491_merged-estimated-taxonomy-parallel.out            493\n",
       "0  SH491_trinity-estimated-taxonomy-parallel.out            495\n",
       "0  SH492_megahit-estimated-taxonomy-parallel.out            424\n",
       "0   SH492_merged-estimated-taxonomy-parallel.out            496\n",
       "0  SH492_trinity-estimated-taxonomy-parallel.out            499\n",
       "0  SH493_megahit-estimated-taxonomy-parallel.out            424\n",
       "0   SH493_merged-estimated-taxonomy-parallel.out            500\n",
       "0  SH493_trinity-estimated-taxonomy-parallel.out            499\n",
       "0         merged-estimated-taxonomy-parallel.out            507"
      ]
     },
     "execution_count": 13,
     "metadata": {},
     "output_type": "execute_result"
    }
   ],
   "source": [
    "countspecies = pd.DataFrame(columns = [\"Sample\", \"Unique Species\"])\n",
    "for curr in unique_species.keys():\n",
    "    currspecies = pd.DataFrame({\"Sample\": [curr], \"Unique Species\": len(unique_species[curr])})\n",
    "    countspecies = pd.concat([countspecies, currspecies], axis = 0)\n",
    "countspecies.sort_values([\"Sample\"])"
   ]
  },
  {
   "cell_type": "code",
   "execution_count": 43,
   "metadata": {},
   "outputs": [],
   "source": [
    "diel_dict = {\"SH402\":0,\"SH487\":4,\"SH488\":8,\"SH489\":12,\"SH490\":16,\"SH491\":20,\"SH492\":24,\"SH493\":28,\"merged\":-1}\n",
    "counter = 0\n",
    "for curr in class_frame.keys():\n",
    "    curr_frame = class_frame[curr]\n",
    "    curr_frame[\"Sample\"] = curr.split(\".\")[len(curr.split(\".\")) - 2].split(\"-\")[0]\n",
    "    curr_frame[\"Diel\"] = diel_dict[curr.split(\"_\")[0].split(\"-\")[0]]\n",
    "    if counter == 0:\n",
    "        total_frame_class = curr_frame\n",
    "    else:\n",
    "        total_frame_class = pd.concat([total_frame_class,curr_frame],axis=0)\n",
    "    counter = counter + 1"
   ]
  },
  {
   "cell_type": "code",
   "execution_count": 45,
   "metadata": {},
   "outputs": [
    {
     "data": {
      "text/plain": [
       "<matplotlib.axes._subplots.AxesSubplot at 0x2aab394cd8b0>"
      ]
     },
     "execution_count": 45,
     "metadata": {},
     "output_type": "execute_result"
    },
    {
     "data": {
      "image/png": "[encoded data removed]",
      "text/plain": [
       "<Figure size 432x288 with 1 Axes>"
      ]
     },
     "metadata": {
      "needs_background": "light"
     },
     "output_type": "display_data"
    }
   ],
   "source": [
    "sns.barplot(x = \"Class\", y = \"count\", hue = \"Diel\", data=total_frame_class)"
   ]
  },
  {
   "cell_type": "code",
   "execution_count": 46,
   "metadata": {},
   "outputs": [
    {
     "data": {
      "text/plain": [
       "<matplotlib.axes._subplots.AxesSubplot at 0x2aab39644f10>"
      ]
     },
     "execution_count": 46,
     "metadata": {},
     "output_type": "execute_result"
    },
    {
     "data": {
      "image/png": "[encoded data removed]",
      "text/plain": [
       "<Figure size 432x288 with 1 Axes>"
      ]
     },
     "metadata": {
      "needs_background": "light"
     },
     "output_type": "display_data"
    }
   ],
   "source": [
    "sns.barplot(x = \"Class\", y = \"count\", hue = \"Diel\", data=total_frame_class.loc[total_frame_class.Diel != -1])"
   ]
  },
  {
   "cell_type": "code",
   "execution_count": 34,
   "metadata": {},
   "outputs": [
    {
     "name": "stderr",
     "output_type": "stream",
     "text": [
      "<ipython-input-34-160e714bf00c>:4: SettingWithCopyWarning: \n",
      "A value is trying to be set on a copy of a slice from a DataFrame\n",
      "\n",
      "See the caveats in the documentation: https://pandas.pydata.org/pandas-docs/stable/user_guide/indexing.html#returning-a-view-versus-a-copy\n",
      "  combined.Diel[combined.Diel == -1] = \"merged\"\n",
      "<ipython-input-34-160e714bf00c>:5: SettingWithCopyWarning: \n",
      "A value is trying to be set on a copy of a slice from a DataFrame\n",
      "\n",
      "See the caveats in the documentation: https://pandas.pydata.org/pandas-docs/stable/user_guide/indexing.html#returning-a-view-versus-a-copy\n",
      "  combined.Diel[combined.Diel == 112] = \"summed_indiv\"\n"
     ]
    },
    {
     "data": {
      "text/html": [
       "<div>\n",
       "<style scoped>\n",
       "    .dataframe tbody tr th:only-of-type {\n",
       "        vertical-align: middle;\n",
       "    }\n",
       "\n",
       "    .dataframe tbody tr th {\n",
       "        vertical-align: top;\n",
       "    }\n",
       "\n",
       "    .dataframe thead th {\n",
       "        text-align: right;\n",
       "    }\n",
       "</style>\n",
       "<table border=\"1\" class=\"dataframe\">\n",
       "  <thead>\n",
       "    <tr style=\"text-align: right;\">\n",
       "      <th></th>\n",
       "      <th>Class</th>\n",
       "      <th>count</th>\n",
       "      <th>Sample</th>\n",
       "      <th>Diel</th>\n",
       "    </tr>\n",
       "  </thead>\n",
       "  <tbody>\n",
       "    <tr>\n",
       "      <th>0</th>\n",
       "      <td>Haptophytes</td>\n",
       "      <td>1243596</td>\n",
       "      <td>merged-estimated-taxonomy-parallel.out</td>\n",
       "      <td>merged</td>\n",
       "    </tr>\n",
       "    <tr>\n",
       "      <th>1</th>\n",
       "      <td>Dinoflagellates</td>\n",
       "      <td>4005937</td>\n",
       "      <td>merged-estimated-taxonomy-parallel.out</td>\n",
       "      <td>merged</td>\n",
       "    </tr>\n",
       "    <tr>\n",
       "      <th>2</th>\n",
       "      <td>Ochrophytes</td>\n",
       "      <td>1899135</td>\n",
       "      <td>merged-estimated-taxonomy-parallel.out</td>\n",
       "      <td>merged</td>\n",
       "    </tr>\n",
       "    <tr>\n",
       "      <th>3</th>\n",
       "      <td>Cryptophytes</td>\n",
       "      <td>959870</td>\n",
       "      <td>merged-estimated-taxonomy-parallel.out</td>\n",
       "      <td>merged</td>\n",
       "    </tr>\n",
       "    <tr>\n",
       "      <th>4</th>\n",
       "      <td>Choanoflagellides</td>\n",
       "      <td>175057</td>\n",
       "      <td>merged-estimated-taxonomy-parallel.out</td>\n",
       "      <td>merged</td>\n",
       "    </tr>\n",
       "    <tr>\n",
       "      <th>0</th>\n",
       "      <td>Choanoflagellides</td>\n",
       "      <td>174732</td>\n",
       "      <td>NaN</td>\n",
       "      <td>summed_indiv</td>\n",
       "    </tr>\n",
       "    <tr>\n",
       "      <th>1</th>\n",
       "      <td>Cryptophytes</td>\n",
       "      <td>959872</td>\n",
       "      <td>NaN</td>\n",
       "      <td>summed_indiv</td>\n",
       "    </tr>\n",
       "    <tr>\n",
       "      <th>2</th>\n",
       "      <td>Dinoflagellates</td>\n",
       "      <td>4005685</td>\n",
       "      <td>NaN</td>\n",
       "      <td>summed_indiv</td>\n",
       "    </tr>\n",
       "    <tr>\n",
       "      <th>3</th>\n",
       "      <td>Haptophytes</td>\n",
       "      <td>1243327</td>\n",
       "      <td>NaN</td>\n",
       "      <td>summed_indiv</td>\n",
       "    </tr>\n",
       "    <tr>\n",
       "      <th>4</th>\n",
       "      <td>Ochrophytes</td>\n",
       "      <td>1899302</td>\n",
       "      <td>NaN</td>\n",
       "      <td>summed_indiv</td>\n",
       "    </tr>\n",
       "  </tbody>\n",
       "</table>\n",
       "</div>"
      ],
      "text/plain": [
       "               Class    count                                  Sample  \\\n",
       "0        Haptophytes  1243596  merged-estimated-taxonomy-parallel.out   \n",
       "1    Dinoflagellates  4005937  merged-estimated-taxonomy-parallel.out   \n",
       "2        Ochrophytes  1899135  merged-estimated-taxonomy-parallel.out   \n",
       "3       Cryptophytes   959870  merged-estimated-taxonomy-parallel.out   \n",
       "4  Choanoflagellides   175057  merged-estimated-taxonomy-parallel.out   \n",
       "0  Choanoflagellides   174732                                     NaN   \n",
       "1       Cryptophytes   959872                                     NaN   \n",
       "2    Dinoflagellates  4005685                                     NaN   \n",
       "3        Haptophytes  1243327                                     NaN   \n",
       "4        Ochrophytes  1899302                                     NaN   \n",
       "\n",
       "           Diel  \n",
       "0        merged  \n",
       "1        merged  \n",
       "2        merged  \n",
       "3        merged  \n",
       "4        merged  \n",
       "0  summed_indiv  \n",
       "1  summed_indiv  \n",
       "2  summed_indiv  \n",
       "3  summed_indiv  \n",
       "4  summed_indiv  "
      ]
     },
     "execution_count": 34,
     "metadata": {},
     "output_type": "execute_result"
    }
   ],
   "source": [
    "combined = pd.concat([total_frame_class.loc[total_frame_class.Diel == -1], \\\n",
    "           total_frame_class.loc[total_frame_class.Diel != -1].groupby(\"Class\", as_index = False).sum()], \\\n",
    "          axis = 0)\n",
    "combined.Diel[combined.Diel == -1] = \"merged\"\n",
    "combined.Diel[combined.Diel == 112] = \"summed_indiv\"\n",
    "combined"
   ]
  },
  {
   "cell_type": "code",
   "execution_count": 48,
   "metadata": {},
   "outputs": [
    {
     "data": {
      "text/html": [
       "<div>\n",
       "<style scoped>\n",
       "    .dataframe tbody tr th:only-of-type {\n",
       "        vertical-align: middle;\n",
       "    }\n",
       "\n",
       "    .dataframe tbody tr th {\n",
       "        vertical-align: top;\n",
       "    }\n",
       "\n",
       "    .dataframe thead th {\n",
       "        text-align: right;\n",
       "    }\n",
       "</style>\n",
       "<table border=\"1\" class=\"dataframe\">\n",
       "  <thead>\n",
       "    <tr style=\"text-align: right;\">\n",
       "      <th></th>\n",
       "      <th>Class</th>\n",
       "      <th>count</th>\n",
       "      <th>Diel</th>\n",
       "    </tr>\n",
       "  </thead>\n",
       "  <tbody>\n",
       "    <tr>\n",
       "      <th>0</th>\n",
       "      <td>Choanoflagellides</td>\n",
       "      <td>174732</td>\n",
       "      <td>112</td>\n",
       "    </tr>\n",
       "    <tr>\n",
       "      <th>1</th>\n",
       "      <td>Cryptophytes</td>\n",
       "      <td>959872</td>\n",
       "      <td>112</td>\n",
       "    </tr>\n",
       "    <tr>\n",
       "      <th>2</th>\n",
       "      <td>Dinoflagellates</td>\n",
       "      <td>4005685</td>\n",
       "      <td>112</td>\n",
       "    </tr>\n",
       "    <tr>\n",
       "      <th>3</th>\n",
       "      <td>Haptophytes</td>\n",
       "      <td>1243327</td>\n",
       "      <td>112</td>\n",
       "    </tr>\n",
       "    <tr>\n",
       "      <th>4</th>\n",
       "      <td>Ochrophytes</td>\n",
       "      <td>1899302</td>\n",
       "      <td>112</td>\n",
       "    </tr>\n",
       "  </tbody>\n",
       "</table>\n",
       "</div>"
      ],
      "text/plain": [
       "               Class    count  Diel\n",
       "0  Choanoflagellides   174732   112\n",
       "1       Cryptophytes   959872   112\n",
       "2    Dinoflagellates  4005685   112\n",
       "3        Haptophytes  1243327   112\n",
       "4        Ochrophytes  1899302   112"
      ]
     },
     "execution_count": 48,
     "metadata": {},
     "output_type": "execute_result"
    }
   ],
   "source": [
    "total_frame_class.loc[total_frame_class.Diel != -1].groupby(\"Class\", as_index = False).sum()"
   ]
  },
  {
   "cell_type": "code",
   "execution_count": 36,
   "metadata": {},
   "outputs": [
    {
     "data": {
      "text/plain": [
       "<matplotlib.axes._subplots.AxesSubplot at 0x2aab389fedc0>"
      ]
     },
     "execution_count": 36,
     "metadata": {},
     "output_type": "execute_result"
    },
    {
     "data": {
      "image/png": "[encoded data removed]",
      "text/plain": [
       "<Figure size 432x288 with 1 Axes>"
      ]
     },
     "metadata": {
      "needs_background": "light"
     },
     "output_type": "display_data"
    }
   ],
   "source": [
    "sns.barplot(x = \"Class\", y = \"count\", hue = \"Diel\", data=combined)"
   ]
  },
  {
   "cell_type": "code",
   "execution_count": null,
   "metadata": {},
   "outputs": [],
   "source": []
  }
 ],
 "metadata": {
  "kernelspec": {
   "display_name": "fixedscanpy",
   "language": "python",
   "name": "fixedscanpy"
  },
  "language_info": {
   "codemirror_mode": {
    "name": "ipython",
    "version": 3
   },
   "file_extension": ".py",
   "mimetype": "text/x-python",
   "name": "python",
   "nbconvert_exporter": "python",
   "pygments_lexer": "ipython3",
   "version": "3.8.3"
  }
 },
 "nbformat": 4,
 "nbformat_minor": 2
}
